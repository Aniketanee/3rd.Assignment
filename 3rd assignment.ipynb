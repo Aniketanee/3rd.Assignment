{
 "cells": [
  {
   "cell_type": "markdown",
   "id": "f998b932-ab39-4cee-b79c-9bf0816735e1",
   "metadata": {},
   "source": [
    "Assignment - 3"
   ]
  },
  {
   "cell_type": "markdown",
   "id": "0fccc790-aad7-42fd-8873-f93f131ecfb1",
   "metadata": {},
   "source": [
    "Question .1"
   ]
  },
  {
   "cell_type": "markdown",
   "id": "887b33d3-4580-462b-941f-f394fcb990d8",
   "metadata": {},
   "source": [
    "def . keyword is used to create a function . example is below."
   ]
  },
  {
   "cell_type": "code",
   "execution_count": 1,
   "id": "b5b4d997-8895-4af9-b9b7-4eb4ab42e30f",
   "metadata": {},
   "outputs": [
    {
     "name": "stdout",
     "output_type": "stream",
     "text": [
      "[1, 3, 5, 7, 9, 11, 13, 15, 17, 19, 21, 23, 25]\n"
     ]
    }
   ],
   "source": [
    "def get_odd_numbers():\n",
    "    odd_numbers = []\n",
    "    for num in range(1, 26):\n",
    "        if num % 2 != 0:\n",
    "            odd_numbers.append(num)\n",
    "    return odd_numbers\n",
    "\n",
    "result = get_odd_numbers()\n",
    "print(result)"
   ]
  },
  {
   "cell_type": "markdown",
   "id": "d92ef11a-94eb-4018-b14f-948b7086719f",
   "metadata": {},
   "source": [
    "Question .2"
   ]
  },
  {
   "cell_type": "markdown",
   "id": "ddad61c5-08e8-49a7-8345-8f6d5836f39d",
   "metadata": {},
   "source": [
    "\"*\"args -This syntax allows a function to accept an arbitrary number of positional arguments .\n",
    "\"**\"kwargs -This syntax allows a function to accept an arbitrary number of keyword arguments. "
   ]
  },
  {
   "cell_type": "code",
   "execution_count": 47,
   "id": "a0147521-b874-4297-a406-95c40bd72f79",
   "metadata": {},
   "outputs": [],
   "source": [
    "def my_function(*args):\n",
    "    for arg in args:\n",
    "        print(arg)\n"
   ]
  },
  {
   "cell_type": "code",
   "execution_count": 49,
   "id": "af35561e-bcd7-4293-9967-9a78bbdf315d",
   "metadata": {},
   "outputs": [
    {
     "name": "stdout",
     "output_type": "stream",
     "text": [
      "1\n",
      "2\n",
      "3\n"
     ]
    }
   ],
   "source": [
    "my_function(1,2,3)"
   ]
  },
  {
   "cell_type": "code",
   "execution_count": 6,
   "id": "4beb6c49-9ba9-42a8-8cea-cce550e81dbb",
   "metadata": {},
   "outputs": [
    {
     "name": "stdout",
     "output_type": "stream",
     "text": [
      "name: Aniket\n",
      "age: 25\n",
      "city: Rasra\n"
     ]
    }
   ],
   "source": [
    "def print_details(**kwargs):\n",
    "    for key, value in kwargs.items():\n",
    "        print(f\"{key}: {value}\")\n",
    "print_details(name=\"Aniket\", age=25, city =\"Rasra\")\n"
   ]
  },
  {
   "cell_type": "markdown",
   "id": "9f790885-2311-45b8-8d05-3e2478851bb9",
   "metadata": {},
   "source": [
    "Question .3"
   ]
  },
  {
   "cell_type": "markdown",
   "id": "afec6761-f3ad-499c-9252-425cad482d79",
   "metadata": {},
   "source": [
    "* An iterator in python is an object that contains a countable number of elements that can be iterated upon .\n",
    "* Instantiating the Iterator in python . \"Inter()\" method used to intialize the iterator object so that the \n",
    "  instance of this object can be used for iterating."
   ]
  },
  {
   "cell_type": "code",
   "execution_count": 11,
   "id": "82402a5f-cffa-4ef8-b58b-711f9eec2cec",
   "metadata": {},
   "outputs": [
    {
     "name": "stdout",
     "output_type": "stream",
     "text": [
      "2\n",
      "4\n",
      "6\n",
      "8\n",
      "10\n"
     ]
    }
   ],
   "source": [
    "my_list =[2,4,6,8,10,12,14,16,18,20]\n",
    "iterator = iter(my_list)\n",
    "for i in range (5):\n",
    "        element = next(iterator)\n",
    "        print (element)"
   ]
  },
  {
   "cell_type": "markdown",
   "id": "8162f077-243e-4382-b0e7-c6cd2b6bb884",
   "metadata": {},
   "source": [
    "Queston .4"
   ]
  },
  {
   "cell_type": "markdown",
   "id": "38aef7ff-b004-4056-bb3b-7aa999c89266",
   "metadata": {},
   "source": [
    "Generator Function - A generator function in Python is a special type of function that uses the \"yield\" keyword to produce a sequence of values, one at a time, instead of returning a single value like regular functions.\n",
    "\"yield\" keyword special reserved keyword , it helps to generate the Generator Function."
   ]
  },
  {
   "cell_type": "code",
   "execution_count": 22,
   "id": "07359001-b4a4-472f-8c6e-4e34978bfefd",
   "metadata": {},
   "outputs": [
    {
     "name": "stdout",
     "output_type": "stream",
     "text": [
      "1\n",
      "2\n",
      "3\n",
      "4\n",
      "5\n"
     ]
    }
   ],
   "source": [
    "def number_generator():\n",
    "    num = 1\n",
    "    while True:\n",
    "        yield num\n",
    "        num += 1\n",
    "numbers = number_generator()\n",
    "\n",
    "for _ in range(5):\n",
    "    number = next(numbers)\n",
    "    print(number)\n"
   ]
  },
  {
   "cell_type": "markdown",
   "id": "d315c727-5d21-44d5-ae0f-7e9ccd2281dd",
   "metadata": {},
   "source": [
    "Question .5"
   ]
  },
  {
   "cell_type": "code",
   "execution_count": 23,
   "id": "93ca69a0-29ed-488f-bdd0-2453b3ae6b6e",
   "metadata": {},
   "outputs": [
    {
     "name": "stdout",
     "output_type": "stream",
     "text": [
      "2\n",
      "3\n",
      "5\n",
      "7\n",
      "11\n",
      "13\n",
      "17\n",
      "19\n",
      "23\n",
      "29\n",
      "31\n",
      "37\n",
      "41\n",
      "43\n",
      "47\n",
      "53\n",
      "59\n",
      "61\n",
      "67\n",
      "71\n",
      "73\n",
      "79\n",
      "83\n",
      "89\n",
      "97\n",
      "101\n",
      "103\n",
      "107\n",
      "109\n",
      "113\n",
      "127\n",
      "131\n",
      "137\n",
      "139\n",
      "149\n",
      "151\n",
      "157\n",
      "163\n",
      "167\n",
      "173\n",
      "179\n",
      "181\n",
      "191\n",
      "193\n",
      "197\n",
      "199\n",
      "211\n",
      "223\n",
      "227\n",
      "229\n",
      "233\n",
      "239\n",
      "241\n",
      "251\n",
      "257\n",
      "263\n",
      "269\n",
      "271\n",
      "277\n",
      "281\n",
      "283\n",
      "293\n",
      "307\n",
      "311\n",
      "313\n",
      "317\n",
      "331\n",
      "337\n",
      "347\n",
      "349\n",
      "353\n",
      "359\n",
      "367\n",
      "373\n",
      "379\n",
      "383\n",
      "389\n",
      "397\n",
      "401\n",
      "409\n",
      "419\n",
      "421\n",
      "431\n",
      "433\n",
      "439\n",
      "443\n",
      "449\n",
      "457\n",
      "461\n",
      "463\n",
      "467\n",
      "479\n",
      "487\n",
      "491\n",
      "499\n",
      "503\n",
      "509\n",
      "521\n",
      "523\n",
      "541\n",
      "547\n",
      "557\n",
      "563\n",
      "569\n",
      "571\n",
      "577\n",
      "587\n",
      "593\n",
      "599\n",
      "601\n",
      "607\n",
      "613\n",
      "617\n",
      "619\n",
      "631\n",
      "641\n",
      "643\n",
      "647\n",
      "653\n",
      "659\n",
      "661\n",
      "673\n",
      "677\n",
      "683\n",
      "691\n",
      "701\n",
      "709\n",
      "719\n",
      "727\n",
      "733\n",
      "739\n",
      "743\n",
      "751\n",
      "757\n",
      "761\n",
      "769\n",
      "773\n",
      "787\n",
      "797\n",
      "809\n",
      "811\n",
      "821\n",
      "823\n",
      "827\n",
      "829\n",
      "839\n",
      "853\n",
      "857\n",
      "859\n",
      "863\n",
      "877\n",
      "881\n",
      "883\n",
      "887\n",
      "907\n",
      "911\n",
      "919\n",
      "929\n",
      "937\n",
      "941\n",
      "947\n",
      "953\n",
      "967\n",
      "971\n",
      "977\n",
      "983\n",
      "991\n",
      "997\n"
     ]
    }
   ],
   "source": [
    "def prime_number():\n",
    "    prime = []\n",
    "    num = 2\n",
    "\n",
    "    while num < 1000:\n",
    "        a_prime = True\n",
    "        for i in prime:\n",
    "            if num % i == 0:\n",
    "                a_prime = False\n",
    "                break\n",
    "        if a_prime:\n",
    "            prime.append(num)\n",
    "            yield num\n",
    "        num += 1\n",
    "\n",
    "# Create a generator object from the prime_number function\n",
    "prime_generator = prime_number()\n",
    "\n",
    "# Iterate over the generator to retrieve prime numbers\n",
    "for prime in prime_generator:\n",
    "    print(prime)"
   ]
  },
  {
   "cell_type": "markdown",
   "id": "c79f4515-cbe8-4714-aaa9-b2f0e71f5f36",
   "metadata": {},
   "source": [
    "Question .6"
   ]
  },
  {
   "cell_type": "code",
   "execution_count": 24,
   "id": "c144defc-d063-4d4e-9c4f-7d8f78c5d13a",
   "metadata": {},
   "outputs": [
    {
     "name": "stdout",
     "output_type": "stream",
     "text": [
      "0\n",
      "1\n",
      "1\n",
      "2\n",
      "3\n",
      "5\n",
      "8\n",
      "13\n",
      "21\n",
      "34\n"
     ]
    }
   ],
   "source": [
    "def fibonacci(n):\n",
    "    if n <= 1:\n",
    "        return n\n",
    "    else:\n",
    "        return fibonacci(n - 1) + fibonacci(n - 2)\n",
    "\n",
    "count = 0\n",
    "n = 10\n",
    "\n",
    "while count < n:\n",
    "    fib_num = fibonacci(count)\n",
    "    print(fib_num)\n",
    "    count += 1\n"
   ]
  },
  {
   "cell_type": "markdown",
   "id": "913fbec7-eabd-4cd9-8570-b48b6f3f2ebd",
   "metadata": {},
   "source": [
    "Question .7"
   ]
  },
  {
   "cell_type": "code",
   "execution_count": 1,
   "id": "057ecb8b-153d-4339-a25e-13d7da5b99ce",
   "metadata": {},
   "outputs": [
    {
     "name": "stdout",
     "output_type": "stream",
     "text": [
      "['p', 'w', 's', 'k', 'i', 'l', 'l', 's']\n"
     ]
    }
   ],
   "source": [
    "string = 'pwskills'\n",
    "result = [char for char in string]\n",
    "\n",
    "# Printing the result\n",
    "print(result)\n"
   ]
  },
  {
   "cell_type": "markdown",
   "id": "2ab1eebe-b3ec-4d31-885e-2ea50447d2e0",
   "metadata": {},
   "source": [
    "Question .8"
   ]
  },
  {
   "cell_type": "code",
   "execution_count": 2,
   "id": "8531f475-c914-4ee4-946f-45fbe3511087",
   "metadata": {},
   "outputs": [
    {
     "name": "stdin",
     "output_type": "stream",
     "text": [
      "Enter a number:  123\n"
     ]
    },
    {
     "name": "stdout",
     "output_type": "stream",
     "text": [
      "123 is not a palindrome.\n"
     ]
    }
   ],
   "source": [
    "def is_palindrome(num):\n",
    "    original_num = num\n",
    "    reversed_num = 0\n",
    "    remainder = 0\n",
    "    while num > 0:\n",
    "        remainder = num % 10\n",
    "        reversed_num = (reversed_num * 10) + remainder\n",
    "        num = num // 10\n",
    "\n",
    "    if original_num == reversed_num:\n",
    "        return True\n",
    "    else:\n",
    "        return False\n",
    "\n",
    "number = int(input(\"Enter a number: \"))\n",
    "if is_palindrome(number):\n",
    "    print(number, \"is a palindrome.\")\n",
    "else:\n",
    "    print(number, \"is not a palindrome.\")\n"
   ]
  },
  {
   "cell_type": "markdown",
   "id": "e7cdacfb-e9e7-40c0-ab6f-532dbcd76910",
   "metadata": {},
   "source": [
    "Question .9"
   ]
  },
  {
   "cell_type": "code",
   "execution_count": 3,
   "id": "1a8d23ce-f41f-4972-a8a3-e3636041f573",
   "metadata": {},
   "outputs": [
    {
     "name": "stdout",
     "output_type": "stream",
     "text": [
      "[1, 3, 5, 7, 9, 11, 13, 15, 17, 19, 21, 23, 25, 27, 29, 31, 33, 35, 37, 39, 41, 43, 45, 47, 49, 51, 53, 55, 57, 59, 61, 63, 65, 67, 69, 71, 73, 75, 77, 79, 81, 83, 85, 87, 89, 91, 93, 95, 97, 99]\n"
     ]
    }
   ],
   "source": [
    "odd_numbers = [num for num in range(1, 101) if num % 2 != 0]\n",
    "print(odd_numbers)\n"
   ]
  },
  {
   "cell_type": "code",
   "execution_count": null,
   "id": "f281a643-9732-4d87-af7b-94d7fdcaabd6",
   "metadata": {},
   "outputs": [],
   "source": []
  }
 ],
 "metadata": {
  "kernelspec": {
   "display_name": "Python 3 (ipykernel)",
   "language": "python",
   "name": "python3"
  },
  "language_info": {
   "codemirror_mode": {
    "name": "ipython",
    "version": 3
   },
   "file_extension": ".py",
   "mimetype": "text/x-python",
   "name": "python",
   "nbconvert_exporter": "python",
   "pygments_lexer": "ipython3",
   "version": "3.10.8"
  }
 },
 "nbformat": 4,
 "nbformat_minor": 5
}
